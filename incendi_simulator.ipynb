{
 "cells": [
  {
   "cell_type": "markdown",
   "metadata": {},
   "source": [
    "# Simulació d'incendis"
   ]
  },
  {
   "cell_type": "code",
   "execution_count": 1,
   "metadata": {},
   "outputs": [],
   "source": [
    "import pandas as pd"
   ]
  },
  {
   "cell_type": "code",
   "execution_count": 23,
   "metadata": {},
   "outputs": [],
   "source": [
    "def read_data(field,dades):\n",
    "    dades = pd.read_csv(dades+\".csv\")\n",
    "    rows = dades[\"rows\"][0]\n",
    "    field = pd.read_csv(field+\".csv\")\n",
    "    # reshape field so it has rows rows and columns columns\n",
    "    field = field.values.reshape(rows, -1)\n",
    "    field = field[:rows]\n",
    "    return field"
   ]
  },
  {
   "cell_type": "code",
   "execution_count": 24,
   "metadata": {},
   "outputs": [
    {
     "data": {
      "text/plain": [
       "array([[65., 73., 73., 63., 57., 62., 66., 60., 53., 58.],\n",
       "       [67., 70., 64., 51., 47., 52., 55., 52., 52., 55.],\n",
       "       [57., 59., 56., 49., 44., 45., 47., 48., 52., 52.],\n",
       "       [49., 51., 56., 59., 53., 48., 49., 53., 59., 59.],\n",
       "       [50., 52., 59., 63., 56., 49., 51., 56., 61., 63.],\n",
       "       [44., 51., 62., 62., 53., 48., 47., 46., 47., 47.],\n",
       "       [32., 47., 64., 67., 61., 57., 51., 41., 34., 30.],\n",
       "       [30., 47., 66., 73., 69., 66., 59., 45., 34., 28.],\n",
       "       [32., 47., 60., 67., 66., 63., 59., 51., 43., 43.],\n",
       "       [34., 45., 50., 54., 53., 53., 56., 54., 53., 60.]])"
      ]
     },
     "execution_count": 24,
     "metadata": {},
     "output_type": "execute_result"
    }
   ],
   "source": [
    "read_data(\"humitat\",\"humitat_dades\")\n"
   ]
  },
  {
   "cell_type": "code",
   "execution_count": 27,
   "metadata": {},
   "outputs": [],
   "source": [
    "forests = read_data(\"combustible\",\"combustible_dades\")"
   ]
  },
  {
   "cell_type": "code",
   "execution_count": null,
   "metadata": {},
   "outputs": [],
   "source": [
    "import pygame as py \n",
    "import time\n",
    "import random\n",
    "import numpy as np\n",
    "import matplotlib.pyplot as plt\n",
    "\n",
    "# Inicialització de Pygame\n"
   ]
  },
  {
   "cell_type": "code",
   "execution_count": 1,
   "metadata": {},
   "outputs": [
    {
     "name": "stdout",
     "output_type": "stream",
     "text": [
      "pygame-ce 2.4.1 (SDL 2.28.5, Python 3.10.11)\n"
     ]
    },
    {
     "ename": "NameError",
     "evalue": "name 'forests' is not defined",
     "output_type": "error",
     "traceback": [
      "\u001b[1;31m---------------------------------------------------------------------------\u001b[0m",
      "\u001b[1;31mNameError\u001b[0m                                 Traceback (most recent call last)",
      "Cell \u001b[1;32mIn[1], line 31\u001b[0m\n\u001b[0;32m     28\u001b[0m pygame\u001b[38;5;241m.\u001b[39mdisplay\u001b[38;5;241m.\u001b[39mset_caption(\u001b[38;5;124m\"\u001b[39m\u001b[38;5;124mMatrix Visualization\u001b[39m\u001b[38;5;124m\"\u001b[39m)\n\u001b[0;32m     30\u001b[0m \u001b[38;5;66;03m# Create random nxn matrix\u001b[39;00m\n\u001b[1;32m---> 31\u001b[0m matrix \u001b[38;5;241m=\u001b[39m \u001b[43mforests\u001b[49m\n\u001b[0;32m     33\u001b[0m \u001b[38;5;66;03m# Main loop\u001b[39;00m\n\u001b[0;32m     34\u001b[0m running \u001b[38;5;241m=\u001b[39m \u001b[38;5;28;01mTrue\u001b[39;00m\n",
      "\u001b[1;31mNameError\u001b[0m: name 'forests' is not defined"
     ]
    },
    {
     "ename": "",
     "evalue": "",
     "output_type": "error",
     "traceback": [
      "\u001b[1;31mThe Kernel crashed while executing code in the current cell or a previous cell. \n",
      "\u001b[1;31mPlease review the code in the cell(s) to identify a possible cause of the failure. \n",
      "\u001b[1;31mClick <a href='https://aka.ms/vscodeJupyterKernelCrash'>here</a> for more info. \n",
      "\u001b[1;31mView Jupyter <a href='command:jupyter.viewOutput'>log</a> for further details."
     ]
    }
   ],
   "source": [
    "import pygame\n",
    "import numpy as np\n",
    "\n",
    "# Initialize pygame\n",
    "pygame.init()\n",
    "\n",
    "# Define colors\n",
    "WHITE = (255, 255, 255)\n",
    "BLACK = (0, 0, 0)\n",
    "\n",
    "\n",
    "\n",
    "# Function to convert values to color intensity\n",
    "\n",
    "# Function to draw the grid\n",
    "def draw_grid(screen, matrix, cell_size):\n",
    "    n = len(matrix)\n",
    "    for i in range(n):\n",
    "        for j in range(n):\n",
    "            color = (0, matrix[i][j], 0)\n",
    "            pygame.draw.rect(screen, color, (j * cell_size, i * cell_size, cell_size, cell_size))\n",
    "\n",
    "# Set up display\n",
    "n = 10  # size of the matrix\n",
    "cell_size = 30\n",
    "width, height = n * cell_size, n * cell_size\n",
    "screen = pygame.display.set_mode((width, height))\n",
    "pygame.display.set_caption(\"Matrix Visualization\")\n",
    "\n",
    "# Create random nxn matrix\n",
    "matrix = forests\n",
    "\n",
    "# Main loop\n",
    "running = True\n",
    "while running:\n",
    "    for event in pygame.event.get():\n",
    "        if event.type == pygame.QUIT:\n",
    "            running = False\n",
    "    \n",
    "    screen.fill(WHITE)\n",
    "    draw_grid(screen, matrix, cell_size)\n",
    "    pygame.display.flip()\n",
    "\n",
    "# Quit pygame\n",
    "pygame.quit()\n"
   ]
  },
  {
   "cell_type": "code",
   "execution_count": null,
   "metadata": {},
   "outputs": [],
   "source": []
  }
 ],
 "metadata": {
  "kernelspec": {
   "display_name": "Python 3",
   "language": "python",
   "name": "python3"
  },
  "language_info": {
   "codemirror_mode": {
    "name": "ipython",
    "version": 3
   },
   "file_extension": ".py",
   "mimetype": "text/x-python",
   "name": "python",
   "nbconvert_exporter": "python",
   "pygments_lexer": "ipython3",
   "version": "3.10.11"
  }
 },
 "nbformat": 4,
 "nbformat_minor": 2
}
